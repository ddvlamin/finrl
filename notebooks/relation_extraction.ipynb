{
 "cells": [
  {
   "cell_type": "code",
   "execution_count": 1,
   "id": "522f77e3-27a7-42ae-98fc-d685e76b17ac",
   "metadata": {},
   "outputs": [],
   "source": [
    "from transformers import pipeline"
   ]
  },
  {
   "cell_type": "code",
   "execution_count": 2,
   "id": "20128d6f-f76d-4350-bb8f-62cb099a0ca2",
   "metadata": {},
   "outputs": [],
   "source": [
    "triplet_extractor = pipeline('translation_xx_to_yy', model='Babelscape/mrebel-large', tokenizer='Babelscape/mrebel-large')"
   ]
  },
  {
   "cell_type": "code",
   "execution_count": 9,
   "id": "d27d94fe-81a9-4d12-9fed-d3817481ff16",
   "metadata": {},
   "outputs": [],
   "source": [
    "gen_kwargs = {\n",
    "    \"max_length\": 1024,\n",
    "    \"length_penalty\": 0,\n",
    "    \"num_beams\": 5,\n",
    "    \"num_return_sequences\": 2,\n",
    "    #\"forced_bos_token_id\": None,\n",
    "}\n",
    "#triplet_extractor.model.config.update(gen_kwargs)"
   ]
  },
  {
   "cell_type": "code",
   "execution_count": 10,
   "id": "3bc47f7f-a95d-425a-a07b-c18ddafb7dce",
   "metadata": {},
   "outputs": [],
   "source": [
    "text = \"\"\"Chief executive Carol Tomé said 2023 was a \"difficult and disappointing year\", and UPS was investing in artificial intelligence (AI) as it pushes to become more efficient. \"\"\"\n",
    "tripled_extracted = triplet_extractor(\n",
    "        text, \n",
    "        decoder_start_token_id=250058, \n",
    "        src_lang=\"en_XX\", \n",
    "        tgt_lang=\"<triplet>\", \n",
    "        return_tensors=True, \n",
    "        return_text=False,\n",
    "    **gen_kwargs,\n",
    ")"
   ]
  },
  {
   "cell_type": "code",
   "execution_count": 11,
   "id": "9e1f4ad2-a8a1-4e5f-8a7c-846102506bab",
   "metadata": {},
   "outputs": [
    {
     "data": {
      "text/plain": [
       "[{'translation_token_ids': tensor([250058, 250054,  61171,   8352,    446,      6, 250061, 127623,      6,\n",
       "          250064, 143889,      2,      1,      1])},\n",
       " {'translation_token_ids': tensor([250058, 250054,  61171,   8352,    446,      6, 250061, 127873, 159354,\n",
       "               6, 250070,  19069,  34658,      2])}]"
      ]
     },
     "execution_count": 11,
     "metadata": {},
     "output_type": "execute_result"
    }
   ],
   "source": [
    "tripled_extracted"
   ]
  },
  {
   "cell_type": "code",
   "execution_count": 13,
   "id": "279f5c26-1055-4ef9-8cce-60365d17a248",
   "metadata": {},
   "outputs": [],
   "source": [
    "tripled_extracted_decoded = triplet_extractor.tokenizer.batch_decode([tripled_extracted[k][\"translation_token_ids\"] for k in [0,1]])"
   ]
  },
  {
   "cell_type": "code",
   "execution_count": 14,
   "id": "3567cba4-4d36-40d1-bee2-7c38956d20f4",
   "metadata": {},
   "outputs": [
    {
     "data": {
      "text/plain": [
       "['tp_XX<triplet> Carol Tomé <per> UPS <org> employer</s><pad><pad>',\n",
       " 'tp_XX<triplet> Carol Tomé <per> Chief executive <concept> position held</s>']"
      ]
     },
     "execution_count": 14,
     "metadata": {},
     "output_type": "execute_result"
    }
   ],
   "source": [
    "tripled_extracted_decoded"
   ]
  },
  {
   "cell_type": "code",
   "execution_count": 15,
   "id": "27560d1a-e2f5-4692-a1e3-15f37d089405",
   "metadata": {},
   "outputs": [],
   "source": [
    "def extract_triplets_typed(text):\n",
    "    triplets = []\n",
    "    relation = ''\n",
    "    text = text.strip()\n",
    "    current = 'x'\n",
    "    subject, relation, object_, object_type, subject_type = '','','','',''\n",
    "\n",
    "    for token in text.replace(\"<s>\", \"\").replace(\"<pad>\", \"\").replace(\"</s>\", \"\").replace(\"tp_XX\", \"\").replace(\"__en__\", \"\").split():\n",
    "        if token == \"<triplet>\" or token == \"<relation>\":\n",
    "            current = 't'\n",
    "            if relation != '':\n",
    "                triplets.append({'head': subject.strip(), 'head_type': subject_type, 'type': relation.strip(),'tail': object_.strip(), 'tail_type': object_type})\n",
    "                relation = ''\n",
    "            subject = ''\n",
    "        elif token.startswith(\"<\") and token.endswith(\">\"):\n",
    "            if current == 't' or current == 'o':\n",
    "                current = 's'\n",
    "                if relation != '':\n",
    "                    triplets.append({'head': subject.strip(), 'head_type': subject_type, 'type': relation.strip(),'tail': object_.strip(), 'tail_type': object_type})\n",
    "                object_ = ''\n",
    "                subject_type = token[1:-1]\n",
    "            else:\n",
    "                current = 'o'\n",
    "                object_type = token[1:-1]\n",
    "                relation = ''\n",
    "        else:\n",
    "            if current == 't':\n",
    "                subject += ' ' + token\n",
    "            elif current == 's':\n",
    "                object_ += ' ' + token\n",
    "            elif current == 'o':\n",
    "                relation += ' ' + token\n",
    "    if subject != '' and relation != '' and object_ != '' and object_type != '' and subject_type != '':\n",
    "        triplets.append({'head': subject.strip(), 'head_type': subject_type, 'type': relation.strip(),'tail': object_.strip(), 'tail_type': object_type})\n",
    "    return triplets"
   ]
  },
  {
   "cell_type": "code",
   "execution_count": 16,
   "id": "c7422c4e-81b1-4aa3-8fc6-e28b60b27f79",
   "metadata": {},
   "outputs": [
    {
     "data": {
      "text/plain": [
       "[{'head': 'Carol Tomé',\n",
       "  'head_type': 'per',\n",
       "  'type': 'employer',\n",
       "  'tail': 'UPS',\n",
       "  'tail_type': 'org'}]"
      ]
     },
     "execution_count": 16,
     "metadata": {},
     "output_type": "execute_result"
    }
   ],
   "source": [
    "extract_triplets_typed(tripled_extracted_decoded[0])"
   ]
  },
  {
   "cell_type": "code",
   "execution_count": null,
   "id": "58c2d32d-1e20-4326-b508-67f65b433239",
   "metadata": {},
   "outputs": [],
   "source": []
  }
 ],
 "metadata": {
  "kernelspec": {
   "display_name": "Python 3 (ipykernel)",
   "language": "python",
   "name": "python3"
  },
  "language_info": {
   "codemirror_mode": {
    "name": "ipython",
    "version": 3
   },
   "file_extension": ".py",
   "mimetype": "text/x-python",
   "name": "python",
   "nbconvert_exporter": "python",
   "pygments_lexer": "ipython3",
   "version": "3.10.8"
  }
 },
 "nbformat": 4,
 "nbformat_minor": 5
}
