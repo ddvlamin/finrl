{
 "cells": [
  {
   "cell_type": "code",
   "execution_count": 1,
   "id": "bfa36ca0-37f6-4b25-babd-56fde4a102ce",
   "metadata": {},
   "outputs": [],
   "source": [
    "import numpy as np\n",
    "import cvxpy as cp"
   ]
  },
  {
   "cell_type": "code",
   "execution_count": 2,
   "id": "fb67625e-ad15-4842-b805-eef48a71e68a",
   "metadata": {},
   "outputs": [
    {
     "data": {
      "text/plain": [
       "0.006873278236914703"
      ]
     },
     "execution_count": 2,
     "metadata": {},
     "output_type": "execute_result"
    }
   ],
   "source": [
    "total_value = 1650.0\n",
    "n = 3\n",
    "\n",
    "A = np.eye(n)\n",
    "A[0,0] = 1/total_value\n",
    "A[1,1] = 110/total_value\n",
    "A[2,2] = 200/total_value\n",
    "\n",
    "b = np.ones((n,))\n",
    "b[0] = 0.0\n",
    "b[1] = 0.45\n",
    "b[2] = 0.55\n",
    "\n",
    "#np.random.seed(0)\n",
    "#m, n= 10, 10\n",
    "#A = np.random.rand(m, n)\n",
    "#b = np.random.randn(m)\n",
    "x = cp.Variable(n, integer=True)\n",
    "\n",
    "objective = cp.Minimize(cp.sum_squares(A @ x - b))\n",
    "prob = cp.Problem(objective, [cp.sum(A @ x) == 1, x >= 0])\n",
    "prob.solve()"
   ]
  },
  {
   "cell_type": "code",
   "execution_count": 3,
   "id": "71dc3877-2642-47e8-8be7-58dbd33de14c",
   "metadata": {},
   "outputs": [
    {
     "data": {
      "text/plain": [
       "dtype('float64')"
      ]
     },
     "execution_count": 3,
     "metadata": {},
     "output_type": "execute_result"
    }
   ],
   "source": [
    "x.value.dtype"
   ]
  },
  {
   "cell_type": "code",
   "execution_count": 4,
   "id": "d53effb8-ff83-402a-aa17-2701e2c7e528",
   "metadata": {},
   "outputs": [
    {
     "data": {
      "text/plain": [
       "0.12121212121212122"
      ]
     },
     "execution_count": 4,
     "metadata": {},
     "output_type": "execute_result"
    }
   ],
   "source": [
    "200/1650"
   ]
  },
  {
   "cell_type": "code",
   "execution_count": 5,
   "id": "9b52fd85-98f1-4374-97d7-aedaa751664d",
   "metadata": {},
   "outputs": [],
   "source": [
    "import pandas as pd"
   ]
  },
  {
   "cell_type": "code",
   "execution_count": 6,
   "id": "5e4c34f1-012b-46be-8fe9-1fa0fc90c9db",
   "metadata": {},
   "outputs": [],
   "source": [
    "positions = pd.DataFrame({\n",
    "    \"symbol\": [\"cash\", \"VW\",\"VV\"], \n",
    "    \"position\": [100/total_value, 550/total_value, 1000/total_value], \n",
    "    \"price\": [1, 110, 200], \n",
    "    \"shares\": [100, 5, 5]}\n",
    ")"
   ]
  },
  {
   "cell_type": "code",
   "execution_count": 7,
   "id": "66a76f21-f160-4ca0-9a10-1e0840b4fe96",
   "metadata": {},
   "outputs": [],
   "source": [
    "positions[\"total\"] = positions[\"price\"] * positions[\"shares\"]"
   ]
  },
  {
   "cell_type": "code",
   "execution_count": 8,
   "id": "2b14fb4c-aad1-463b-a5b6-3103e34ed118",
   "metadata": {},
   "outputs": [],
   "source": [
    "positions.set_index(\"symbol\", inplace=True)"
   ]
  },
  {
   "cell_type": "code",
   "execution_count": 9,
   "id": "957354ef-35c2-4963-b47c-a16ad5d263f4",
   "metadata": {},
   "outputs": [
    {
     "name": "stdout",
     "output_type": "stream",
     "text": [
      "cash 100.0\n",
      "VW 5.0\n",
      "VV 5.0\n"
     ]
    }
   ],
   "source": [
    "for symbol, row in positions.iterrows():\n",
    "    print(symbol, row.loc[\"shares\"])"
   ]
  },
  {
   "cell_type": "code",
   "execution_count": 10,
   "id": "a15dda64-3957-43f2-8999-adeec6fe7a62",
   "metadata": {},
   "outputs": [],
   "source": [
    "from fin.env.simulator import TradingSimulator"
   ]
  },
  {
   "cell_type": "code",
   "execution_count": 11,
   "id": "bcab8192-c0b7-48b6-a846-f2c037895a50",
   "metadata": {},
   "outputs": [],
   "source": [
    "simulator = TradingSimulator(positions)"
   ]
  },
  {
   "cell_type": "code",
   "execution_count": 12,
   "id": "131204d3-4c87-42ee-9d5b-d54a277a2a98",
   "metadata": {},
   "outputs": [
    {
     "data": {
      "text/plain": [
       "1650"
      ]
     },
     "execution_count": 12,
     "metadata": {},
     "output_type": "execute_result"
    }
   ],
   "source": [
    "simulator.total_value"
   ]
  },
  {
   "cell_type": "code",
   "execution_count": 22,
   "id": "73e87ed8-9853-4832-a963-b3fef58e269b",
   "metadata": {},
   "outputs": [],
   "source": [
    "new_positions = positions.copy()"
   ]
  },
  {
   "cell_type": "code",
   "execution_count": 27,
   "id": "ca971050-dfea-4923-b115-ed5bb6ad2f1b",
   "metadata": {},
   "outputs": [],
   "source": [
    "new_positions.loc[\"cash\",\"position\"] = 0.3\n",
    "new_positions.loc[\"VW\",\"position\"] = 0.2\n",
    "new_positions.loc[\"VV\",\"position\"] = 0.5"
   ]
  },
  {
   "cell_type": "code",
   "execution_count": 28,
   "id": "c656e63a-c47f-4fb5-a2ea-913573c26b78",
   "metadata": {},
   "outputs": [
    {
     "name": "stdout",
     "output_type": "stream",
     "text": [
      "[[0.00060606 0.         0.        ]\n",
      " [0.         0.06666667 0.        ]\n",
      " [0.         0.         0.12121212]]\n",
      "[0.3 0.2 0.5]\n",
      "[520.   3.   4.]\n",
      "cash 520.0\n",
      "VW 3.0\n",
      "VV 4.0\n"
     ]
    }
   ],
   "source": [
    "simulator.reposition(new_positions)"
   ]
  },
  {
   "cell_type": "code",
   "execution_count": 29,
   "id": "8018fa27-09b3-4f01-8955-965091afbbae",
   "metadata": {},
   "outputs": [
    {
     "data": {
      "text/html": [
       "<div>\n",
       "<style scoped>\n",
       "    .dataframe tbody tr th:only-of-type {\n",
       "        vertical-align: middle;\n",
       "    }\n",
       "\n",
       "    .dataframe tbody tr th {\n",
       "        vertical-align: top;\n",
       "    }\n",
       "\n",
       "    .dataframe thead th {\n",
       "        text-align: right;\n",
       "    }\n",
       "</style>\n",
       "<table border=\"1\" class=\"dataframe\">\n",
       "  <thead>\n",
       "    <tr style=\"text-align: right;\">\n",
       "      <th></th>\n",
       "      <th>position</th>\n",
       "      <th>price</th>\n",
       "      <th>shares</th>\n",
       "      <th>total</th>\n",
       "    </tr>\n",
       "    <tr>\n",
       "      <th>symbol</th>\n",
       "      <th></th>\n",
       "      <th></th>\n",
       "      <th></th>\n",
       "      <th></th>\n",
       "    </tr>\n",
       "  </thead>\n",
       "  <tbody>\n",
       "    <tr>\n",
       "      <th>cash</th>\n",
       "      <td>0.315152</td>\n",
       "      <td>1</td>\n",
       "      <td>520</td>\n",
       "      <td>520</td>\n",
       "    </tr>\n",
       "    <tr>\n",
       "      <th>VW</th>\n",
       "      <td>0.200000</td>\n",
       "      <td>110</td>\n",
       "      <td>3</td>\n",
       "      <td>330</td>\n",
       "    </tr>\n",
       "    <tr>\n",
       "      <th>VV</th>\n",
       "      <td>0.484848</td>\n",
       "      <td>200</td>\n",
       "      <td>4</td>\n",
       "      <td>800</td>\n",
       "    </tr>\n",
       "  </tbody>\n",
       "</table>\n",
       "</div>"
      ],
      "text/plain": [
       "        position  price  shares  total\n",
       "symbol                                \n",
       "cash    0.315152      1     520    520\n",
       "VW      0.200000    110       3    330\n",
       "VV      0.484848    200       4    800"
      ]
     },
     "execution_count": 29,
     "metadata": {},
     "output_type": "execute_result"
    }
   ],
   "source": [
    "simulator.positions"
   ]
  },
  {
   "cell_type": "code",
   "execution_count": 30,
   "id": "d3235a6a-20d8-436e-92b3-a6a389831a71",
   "metadata": {},
   "outputs": [
    {
     "data": {
      "text/html": [
       "<div>\n",
       "<style scoped>\n",
       "    .dataframe tbody tr th:only-of-type {\n",
       "        vertical-align: middle;\n",
       "    }\n",
       "\n",
       "    .dataframe tbody tr th {\n",
       "        vertical-align: top;\n",
       "    }\n",
       "\n",
       "    .dataframe thead th {\n",
       "        text-align: right;\n",
       "    }\n",
       "</style>\n",
       "<table border=\"1\" class=\"dataframe\">\n",
       "  <thead>\n",
       "    <tr style=\"text-align: right;\">\n",
       "      <th></th>\n",
       "      <th>position</th>\n",
       "      <th>price</th>\n",
       "      <th>shares</th>\n",
       "      <th>total</th>\n",
       "    </tr>\n",
       "    <tr>\n",
       "      <th>symbol</th>\n",
       "      <th></th>\n",
       "      <th></th>\n",
       "      <th></th>\n",
       "      <th></th>\n",
       "    </tr>\n",
       "  </thead>\n",
       "  <tbody>\n",
       "    <tr>\n",
       "      <th>cash</th>\n",
       "      <td>0.060606</td>\n",
       "      <td>1</td>\n",
       "      <td>100</td>\n",
       "      <td>100</td>\n",
       "    </tr>\n",
       "    <tr>\n",
       "      <th>VW</th>\n",
       "      <td>0.333333</td>\n",
       "      <td>110</td>\n",
       "      <td>5</td>\n",
       "      <td>550</td>\n",
       "    </tr>\n",
       "    <tr>\n",
       "      <th>VV</th>\n",
       "      <td>0.606061</td>\n",
       "      <td>200</td>\n",
       "      <td>5</td>\n",
       "      <td>1000</td>\n",
       "    </tr>\n",
       "  </tbody>\n",
       "</table>\n",
       "</div>"
      ],
      "text/plain": [
       "        position  price  shares  total\n",
       "symbol                                \n",
       "cash    0.060606      1     100    100\n",
       "VW      0.333333    110       5    550\n",
       "VV      0.606061    200       5   1000"
      ]
     },
     "execution_count": 30,
     "metadata": {},
     "output_type": "execute_result"
    }
   ],
   "source": [
    "positions"
   ]
  },
  {
   "cell_type": "code",
   "execution_count": null,
   "id": "d94ef654-2e0b-4d25-96b5-aa753c17e01e",
   "metadata": {},
   "outputs": [],
   "source": []
  }
 ],
 "metadata": {
  "kernelspec": {
   "display_name": "Python 3 (ipykernel)",
   "language": "python",
   "name": "python3"
  },
  "language_info": {
   "codemirror_mode": {
    "name": "ipython",
    "version": 3
   },
   "file_extension": ".py",
   "mimetype": "text/x-python",
   "name": "python",
   "nbconvert_exporter": "python",
   "pygments_lexer": "ipython3",
   "version": "3.10.8"
  }
 },
 "nbformat": 4,
 "nbformat_minor": 5
}
