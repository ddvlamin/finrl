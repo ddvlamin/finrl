{
 "cells": [
  {
   "cell_type": "markdown",
   "id": "f687b236-017a-43bb-9a76-2fcba7f96d0d",
   "metadata": {},
   "source": [
    "### step 1: find current free cash flow\n",
    "### step 2: grow the current free cashe flow out 10 years into the future\n",
    "### step 3: add a terminal value (times average )\n",
    "### step 4: discount all future cash flows to present value\n",
    "### step 5: add together all future cash flows to find intrinsic value\n",
    "### step 6: add margin of safety\n",
    "\n",
    "### free cash flow = operating cash flow - purchase of property, plant and equipment"
   ]
  },
  {
   "cell_type": "code",
   "execution_count": 1,
   "id": "83349c82-bdce-4cfc-9953-727425a46d83",
   "metadata": {},
   "outputs": [],
   "source": [
    "import numpy as np"
   ]
  },
  {
   "cell_type": "code",
   "execution_count": null,
   "id": "fdf4e5f5-31c6-4e2d-8c2d-1eb32d3d2fdb",
   "metadata": {},
   "outputs": [],
   "source": []
  }
 ],
 "metadata": {
  "kernelspec": {
   "display_name": "Python 3 (ipykernel)",
   "language": "python",
   "name": "python3"
  },
  "language_info": {
   "codemirror_mode": {
    "name": "ipython",
    "version": 3
   },
   "file_extension": ".py",
   "mimetype": "text/x-python",
   "name": "python",
   "nbconvert_exporter": "python",
   "pygments_lexer": "ipython3",
   "version": "3.10.8"
  }
 },
 "nbformat": 4,
 "nbformat_minor": 5
}
