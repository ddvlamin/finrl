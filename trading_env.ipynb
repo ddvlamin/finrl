{
 "cells": [
  {
   "cell_type": "code",
   "execution_count": 1,
   "id": "1f3d4df5-4d56-4478-a889-ab7ec9359937",
   "metadata": {},
   "outputs": [],
   "source": [
    "%matplotlib ipympl\n",
    "import matplotlib.pyplot as plt\n",
    "from scipy import stats\n",
    "import numpy as np\n",
    "from datetime import timedelta\n",
    "import pandas as pd\n",
    "\n",
    "from fin.sdk.data import *\n",
    "from fin.sdk.momentum import *\n",
    "from fin.sdk.backtest import *\n",
    "from fin.environment.trading import *\n",
    "from fin.environment.simulator import *\n",
    "from fin.processing.features import *"
   ]
  },
  {
   "cell_type": "code",
   "execution_count": 2,
   "id": "16b2d362-1842-407a-ba03-c516b87df522",
   "metadata": {},
   "outputs": [],
   "source": [
    "df = get_historical_stock_df(\"1day\", [\"AAPL\",\"VLKPF\"], \"2000-01-01\", \"2023-11-10\")"
   ]
  },
  {
   "cell_type": "code",
   "execution_count": 3,
   "id": "428e66c6-aaae-4eb7-b291-c346c1df3d53",
   "metadata": {},
   "outputs": [],
   "source": [
    "#trading_simulator = TradingSimulator(df, 10000)\n",
    "#trading_environment = TradingEnv(trading_simulator)"
   ]
  },
  {
   "cell_type": "code",
   "execution_count": 4,
   "id": "a0217ed7-a368-4cfc-ad53-2e8498eddcb3",
   "metadata": {},
   "outputs": [],
   "source": [
    "open_df = df[\"open\"]"
   ]
  },
  {
   "cell_type": "code",
   "execution_count": 5,
   "id": "af347602-2ef3-4e96-855d-9799317bb581",
   "metadata": {},
   "outputs": [],
   "source": [
    "slopes_df = compute_slopes_per_symbol(open_df)"
   ]
  },
  {
   "cell_type": "code",
   "execution_count": 8,
   "id": "2f7e7931-8db0-420a-9bf8-629da7cdff12",
   "metadata": {},
   "outputs": [
    {
     "data": {
      "text/plain": [
       "date             \n",
       "2000-01-03  AAPL     0.0\n",
       "            VLKPF    0.0\n",
       "2000-01-04  AAPL     0.0\n",
       "            VLKPF    0.0\n",
       "2000-01-05  AAPL     0.0\n",
       "                    ... \n",
       "2023-11-08  VLKPF    0.0\n",
       "2023-11-09  AAPL     0.0\n",
       "            VLKPF    0.0\n",
       "2023-11-10  AAPL     0.0\n",
       "            VLKPF    0.0\n",
       "Length: 17426, dtype: float64"
      ]
     },
     "execution_count": 8,
     "metadata": {},
     "output_type": "execute_result"
    }
   ],
   "source": [
    "slopes_df"
   ]
  },
  {
   "cell_type": "code",
   "execution_count": 7,
   "id": "4f7f56fb-7bac-422b-941b-65578d8bd589",
   "metadata": {},
   "outputs": [
    {
     "data": {
      "text/html": [
       "<div>\n",
       "<style scoped>\n",
       "    .dataframe tbody tr th:only-of-type {\n",
       "        vertical-align: middle;\n",
       "    }\n",
       "\n",
       "    .dataframe tbody tr th {\n",
       "        vertical-align: top;\n",
       "    }\n",
       "\n",
       "    .dataframe thead th {\n",
       "        text-align: right;\n",
       "    }\n",
       "</style>\n",
       "<table border=\"1\" class=\"dataframe\">\n",
       "  <thead>\n",
       "    <tr style=\"text-align: right;\">\n",
       "      <th></th>\n",
       "      <th></th>\n",
       "      <th>open</th>\n",
       "      <th>low</th>\n",
       "      <th>high</th>\n",
       "      <th>close</th>\n",
       "      <th>volume</th>\n",
       "    </tr>\n",
       "    <tr>\n",
       "      <th>date</th>\n",
       "      <th>symbol</th>\n",
       "      <th></th>\n",
       "      <th></th>\n",
       "      <th></th>\n",
       "      <th></th>\n",
       "      <th></th>\n",
       "    </tr>\n",
       "  </thead>\n",
       "  <tbody>\n",
       "    <tr>\n",
       "      <th rowspan=\"2\" valign=\"top\">2000-01-03</th>\n",
       "      <th>AAPL</th>\n",
       "      <td>0.93638</td>\n",
       "      <td>0.90792</td>\n",
       "      <td>1.00000</td>\n",
       "      <td>0.99944</td>\n",
       "      <td>535796800.0</td>\n",
       "    </tr>\n",
       "    <tr>\n",
       "      <th>VLKPF</th>\n",
       "      <td>NaN</td>\n",
       "      <td>NaN</td>\n",
       "      <td>NaN</td>\n",
       "      <td>NaN</td>\n",
       "      <td>NaN</td>\n",
       "    </tr>\n",
       "    <tr>\n",
       "      <th rowspan=\"2\" valign=\"top\">2000-01-04</th>\n",
       "      <th>AAPL</th>\n",
       "      <td>0.96652</td>\n",
       "      <td>0.90346</td>\n",
       "      <td>0.98772</td>\n",
       "      <td>0.91518</td>\n",
       "      <td>512377600.0</td>\n",
       "    </tr>\n",
       "    <tr>\n",
       "      <th>VLKPF</th>\n",
       "      <td>NaN</td>\n",
       "      <td>NaN</td>\n",
       "      <td>NaN</td>\n",
       "      <td>NaN</td>\n",
       "      <td>NaN</td>\n",
       "    </tr>\n",
       "    <tr>\n",
       "      <th>2000-01-05</th>\n",
       "      <th>AAPL</th>\n",
       "      <td>0.92634</td>\n",
       "      <td>0.91964</td>\n",
       "      <td>0.98717</td>\n",
       "      <td>0.92857</td>\n",
       "      <td>778321600.0</td>\n",
       "    </tr>\n",
       "    <tr>\n",
       "      <th>...</th>\n",
       "      <th>...</th>\n",
       "      <td>...</td>\n",
       "      <td>...</td>\n",
       "      <td>...</td>\n",
       "      <td>...</td>\n",
       "      <td>...</td>\n",
       "    </tr>\n",
       "    <tr>\n",
       "      <th>2023-11-08</th>\n",
       "      <th>VLKPF</th>\n",
       "      <td>110.65000</td>\n",
       "      <td>110.16000</td>\n",
       "      <td>112.19000</td>\n",
       "      <td>110.16000</td>\n",
       "      <td>85.0</td>\n",
       "    </tr>\n",
       "    <tr>\n",
       "      <th rowspan=\"2\" valign=\"top\">2023-11-09</th>\n",
       "      <th>AAPL</th>\n",
       "      <td>182.96000</td>\n",
       "      <td>181.81000</td>\n",
       "      <td>184.12000</td>\n",
       "      <td>182.41000</td>\n",
       "      <td>53631840.0</td>\n",
       "    </tr>\n",
       "    <tr>\n",
       "      <th>VLKPF</th>\n",
       "      <td>111.41000</td>\n",
       "      <td>111.41000</td>\n",
       "      <td>112.74000</td>\n",
       "      <td>112.74000</td>\n",
       "      <td>960.0</td>\n",
       "    </tr>\n",
       "    <tr>\n",
       "      <th rowspan=\"2\" valign=\"top\">2023-11-10</th>\n",
       "      <th>AAPL</th>\n",
       "      <td>183.97000</td>\n",
       "      <td>183.53000</td>\n",
       "      <td>186.56500</td>\n",
       "      <td>186.40000</td>\n",
       "      <td>66177922.0</td>\n",
       "    </tr>\n",
       "    <tr>\n",
       "      <th>VLKPF</th>\n",
       "      <td>109.94800</td>\n",
       "      <td>109.39000</td>\n",
       "      <td>110.97000</td>\n",
       "      <td>109.92000</td>\n",
       "      <td>268.0</td>\n",
       "    </tr>\n",
       "  </tbody>\n",
       "</table>\n",
       "<p>17426 rows × 5 columns</p>\n",
       "</div>"
      ],
      "text/plain": [
       "                        open        low       high      close       volume\n",
       "date       symbol                                                         \n",
       "2000-01-03 AAPL      0.93638    0.90792    1.00000    0.99944  535796800.0\n",
       "           VLKPF         NaN        NaN        NaN        NaN          NaN\n",
       "2000-01-04 AAPL      0.96652    0.90346    0.98772    0.91518  512377600.0\n",
       "           VLKPF         NaN        NaN        NaN        NaN          NaN\n",
       "2000-01-05 AAPL      0.92634    0.91964    0.98717    0.92857  778321600.0\n",
       "...                      ...        ...        ...        ...          ...\n",
       "2023-11-08 VLKPF   110.65000  110.16000  112.19000  110.16000         85.0\n",
       "2023-11-09 AAPL    182.96000  181.81000  184.12000  182.41000   53631840.0\n",
       "           VLKPF   111.41000  111.41000  112.74000  112.74000        960.0\n",
       "2023-11-10 AAPL    183.97000  183.53000  186.56500  186.40000   66177922.0\n",
       "           VLKPF   109.94800  109.39000  110.97000  109.92000        268.0\n",
       "\n",
       "[17426 rows x 5 columns]"
      ]
     },
     "execution_count": 7,
     "metadata": {},
     "output_type": "execute_result"
    }
   ],
   "source": [
    "df"
   ]
  }
 ],
 "metadata": {
  "kernelspec": {
   "display_name": "Python 3 (ipykernel)",
   "language": "python",
   "name": "python3"
  },
  "language_info": {
   "codemirror_mode": {
    "name": "ipython",
    "version": 3
   },
   "file_extension": ".py",
   "mimetype": "text/x-python",
   "name": "python",
   "nbconvert_exporter": "python",
   "pygments_lexer": "ipython3",
   "version": "3.10.8"
  }
 },
 "nbformat": 4,
 "nbformat_minor": 5
}
